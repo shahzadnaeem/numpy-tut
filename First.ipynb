{
 "cells": [
  {
   "attachments": {},
   "cell_type": "markdown",
   "metadata": {},
   "source": [
    "# Numpy Tutorial"
   ]
  },
  {
   "cell_type": "code",
   "execution_count": 1,
   "metadata": {},
   "outputs": [
    {
     "name": "stdout",
     "output_type": "stream",
     "text": [
      "[0.59084688 0.67875744 0.91432477 0.22943694 0.85755266 0.31830559]\n"
     ]
    }
   ],
   "source": [
    "import numpy as np\n",
    "\n",
    "nums = np.random.random([6])\n",
    "print(nums)"
   ]
  },
  {
   "attachments": {},
   "cell_type": "markdown",
   "metadata": {},
   "source": [
    "# Pandas Tutorial"
   ]
  },
  {
   "cell_type": "code",
   "execution_count": 2,
   "metadata": {},
   "outputs": [
    {
     "name": "stdout",
     "output_type": "stream",
     "text": [
      "   Elle  Chidi  Tahir  Jaspe  Janet\n",
      "0    54     52     31     94    125\n",
      "1    97      8     51     41     92\n",
      "2    81     24      9     34     43\n"
     ]
    }
   ],
   "source": [
    "import numpy as np\n",
    "import pandas as pd\n",
    "\n",
    "columns = [\"Elle\", \"Chidi\", \"Tahir\", \"Jaspe\"]\n",
    "nrows = 3\n",
    "ncols = 4\n",
    "kids_a = np.random.randint(low=0, high=101, size=(3,4))\n",
    "\n",
    "kids = pd.DataFrame(data=kids_a, columns=columns)\n",
    "\n",
    "kids[\"Janet\"] = kids[\"Tahir\"] + kids[\"Jaspe\"]\n",
    "\n",
    "print(kids)\n"
   ]
  }
 ],
 "metadata": {
  "kernelspec": {
   "display_name": "Python 3",
   "language": "python",
   "name": "python3"
  },
  "language_info": {
   "codemirror_mode": {
    "name": "ipython",
    "version": 3
   },
   "file_extension": ".py",
   "mimetype": "text/x-python",
   "name": "python",
   "nbconvert_exporter": "python",
   "pygments_lexer": "ipython3",
   "version": "3.10.11"
  },
  "orig_nbformat": 4
 },
 "nbformat": 4,
 "nbformat_minor": 2
}
